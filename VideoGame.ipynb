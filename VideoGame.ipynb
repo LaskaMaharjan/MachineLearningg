{
  "nbformat": 4,
  "nbformat_minor": 0,
  "metadata": {
    "colab": {
      "provenance": [],
      "mount_file_id": "1VlCJPEecb9NI1vEnFD_ncmmjxrioE2oN",
      "authorship_tag": "ABX9TyPqOYcQ23l3C3MaOFPrd86Q",
      "include_colab_link": true
    },
    "kernelspec": {
      "name": "python3",
      "display_name": "Python 3"
    },
    "language_info": {
      "name": "python"
    }
  },
  "cells": [
    {
      "cell_type": "markdown",
      "metadata": {
        "id": "view-in-github",
        "colab_type": "text"
      },
      "source": [
        "<a href=\"https://colab.research.google.com/github/LaskaMaharjan/MachineLearningg/blob/main/VideoGame.ipynb\" target=\"_parent\"><img src=\"https://colab.research.google.com/assets/colab-badge.svg\" alt=\"Open In Colab\"/></a>"
      ]
    },
    {
      "cell_type": "code",
      "execution_count": null,
      "metadata": {
        "id": "B2fKJgN7oJRB"
      },
      "outputs": [],
      "source": []
    }
  ]
}